{
 "cells": [
  {
   "cell_type": "code",
   "execution_count": 1,
   "id": "31596c67-68b3-47a0-8b00-57d8cca1975b",
   "metadata": {},
   "outputs": [
    {
     "name": "stdout",
     "output_type": "stream",
     "text": [
      "Note: you may need to restart the kernel to use updated packages.\n"
     ]
    }
   ],
   "source": [
    "# In the notebook:\n",
    "%pip install -q ipywidgets==8.* jupyterlab_widgets\n"
   ]
  },
  {
   "cell_type": "code",
   "execution_count": 2,
   "id": "42d18a83-3e23-4d6b-8fa9-5737017f9b11",
   "metadata": {},
   "outputs": [
    {
     "data": {
      "text/plain": [
       "DistilBertForSequenceClassification(\n",
       "  (distilbert): DistilBertModel(\n",
       "    (embeddings): Embeddings(\n",
       "      (word_embeddings): Embedding(30522, 768, padding_idx=0)\n",
       "      (position_embeddings): Embedding(512, 768)\n",
       "      (LayerNorm): LayerNorm((768,), eps=1e-12, elementwise_affine=True)\n",
       "      (dropout): Dropout(p=0.1, inplace=False)\n",
       "    )\n",
       "    (transformer): Transformer(\n",
       "      (layer): ModuleList(\n",
       "        (0-5): 6 x TransformerBlock(\n",
       "          (attention): DistilBertSdpaAttention(\n",
       "            (dropout): Dropout(p=0.1, inplace=False)\n",
       "            (q_lin): Linear(in_features=768, out_features=768, bias=True)\n",
       "            (k_lin): Linear(in_features=768, out_features=768, bias=True)\n",
       "            (v_lin): Linear(in_features=768, out_features=768, bias=True)\n",
       "            (out_lin): Linear(in_features=768, out_features=768, bias=True)\n",
       "          )\n",
       "          (sa_layer_norm): LayerNorm((768,), eps=1e-12, elementwise_affine=True)\n",
       "          (ffn): FFN(\n",
       "            (dropout): Dropout(p=0.1, inplace=False)\n",
       "            (lin1): Linear(in_features=768, out_features=3072, bias=True)\n",
       "            (lin2): Linear(in_features=3072, out_features=768, bias=True)\n",
       "            (activation): GELUActivation()\n",
       "          )\n",
       "          (output_layer_norm): LayerNorm((768,), eps=1e-12, elementwise_affine=True)\n",
       "        )\n",
       "      )\n",
       "    )\n",
       "  )\n",
       "  (pre_classifier): Linear(in_features=768, out_features=768, bias=True)\n",
       "  (classifier): Linear(in_features=768, out_features=7, bias=True)\n",
       "  (dropout): Dropout(p=0.2, inplace=False)\n",
       ")"
      ]
     },
     "execution_count": 2,
     "metadata": {},
     "output_type": "execute_result"
    }
   ],
   "source": [
    "from transformers import AutoTokenizer, AutoModelForSequenceClassification\n",
    "import torch, json\n",
    "\n",
    "path = \"../outputs/bert/best_model\"\n",
    "tok = AutoTokenizer.from_pretrained(path)\n",
    "model = AutoModelForSequenceClassification.from_pretrained(path)\n",
    "id2label = json.load(open(f\"{path}/id2label.json\"))\n",
    "device = torch.device(\"cuda\" if torch.cuda.is_available() else \"cpu\")\n",
    "model.to(device)"
   ]
  },
  {
   "cell_type": "code",
   "execution_count": 3,
   "id": "5600cb48-d3c2-4049-b0e3-88761586f118",
   "metadata": {},
   "outputs": [
    {
     "name": "stdout",
     "output_type": "stream",
     "text": [
      "Predicted: AVIONICS/ELECTRICAL (0.965)\n",
      "Top-k: [('AVIONICS/ELECTRICAL', 0.9653291702270508), ('FLIGHT_CONTROLS', 0.016656190156936646), ('CABIN', 0.005767402704805136)]\n"
     ]
    }
   ],
   "source": [
    "import torch\n",
    "import numpy as np\n",
    "import torch.nn.functional as F\n",
    "\n",
    "MAX_LEN = 128\n",
    "model.eval()  # inference mode\n",
    "\n",
    "def predict_one(text, k=3):\n",
    "    enc = tok([text], truncation=True, padding=True, max_length=MAX_LEN, return_tensors=\"pt\").to(device)\n",
    "    with torch.no_grad():\n",
    "        logits = model(**enc).logits\n",
    "        probs = F.softmax(logits, dim=-1).cpu().numpy()[0]\n",
    "\n",
    "    # id2label keys may be strings in your JSON; handle both\n",
    "    def lbl(i): \n",
    "        return id2label[str(i)] if isinstance(next(iter(id2label.keys())), str) else id2label[i]\n",
    "\n",
    "    pred_id = int(np.argmax(probs))\n",
    "    topk_ids = np.argsort(-probs)[:k]\n",
    "    topk = [(lbl(i), float(probs[i])) for i in topk_ids]\n",
    "    return lbl(pred_id), float(probs[pred_id]), topk\n",
    "\n",
    "# Example usage:\n",
    "label, p, topk = predict_one(\"AUTOPILOT DISCONNECTED UNEXPECTEDLY DURING CRUISE; INSPECTION FOUND LOOSE CONNECTOR\")\n",
    "print(\"Predicted:\", label, f\"({p:.3f})\")\n",
    "print(\"Top-k:\", topk)\n"
   ]
  },
  {
   "cell_type": "code",
   "execution_count": 6,
   "id": "f57bec98-0be7-4adb-b036-29371414464d",
   "metadata": {},
   "outputs": [
    {
     "data": {
      "application/vnd.jupyter.widget-view+json": {
       "model_id": "807faa6b7aa7407fbca9a98893934b00",
       "version_major": 2,
       "version_minor": 0
      },
      "text/plain": [
       "VBox(children=(Textarea(value='AUTOPILOT DISCONNECTED UNEXPECTEDLY DURING CRUISE; INSPECTION FOUND LOOSE CONNE…"
      ]
     },
     "metadata": {},
     "output_type": "display_data"
    }
   ],
   "source": [
    "# Simple notebook UI: type text → click Predict\n",
    "from ipywidgets import Textarea, Button, Output, VBox, HBox, IntSlider\n",
    "from IPython.display import display\n",
    "import torch.nn.functional as F\n",
    "import numpy as np\n",
    "import torch\n",
    "\n",
    "model.eval()\n",
    "\n",
    "out = Output()\n",
    "ta = Textarea(\n",
    "    value=\"AUTOPILOT DISCONNECTED UNEXPECTEDLY DURING CRUISE; INSPECTION FOUND LOOSE CONNECTOR\",\n",
    "    placeholder=\"Type a discrepancy here...\",\n",
    "    layout=dict(width=\"100%\", height=\"120px\")\n",
    ")\n",
    "topk = IntSlider(value=3, min=1, max=len(id2label), step=1, description=\"Top-k\")\n",
    "btn = Button(description=\"Predict\", button_style=\"primary\")\n",
    "\n",
    "def on_click(_):\n",
    "    out.clear_output()\n",
    "    text = ta.value.strip()\n",
    "    if not text:\n",
    "        with out: print(\"Please enter some text.\")\n",
    "        return\n",
    "    try:\n",
    "        label, prob, tk = predict_one(text, k=topk.value)\n",
    "        with out:\n",
    "            print(f\"Predicted: {label} ({prob:.3f})\")\n",
    "            print(\"Top-k:\")\n",
    "            for lbl, p in tk:\n",
    "                print(f\"  {lbl:>25}  {p:.3f}\")\n",
    "    except Exception as e:\n",
    "        with out: print(\"Error:\", e)\n",
    "\n",
    "btn.on_click(on_click)\n",
    "ui = VBox([ta, HBox([topk, btn]), out])\n",
    "display(ui)\n"
   ]
  },
  {
   "cell_type": "code",
   "execution_count": null,
   "id": "b6da9fcb-d085-4adc-9162-c49ca1227d64",
   "metadata": {},
   "outputs": [],
   "source": []
  },
  {
   "cell_type": "code",
   "execution_count": null,
   "id": "fec6b083-78fe-41fd-bbaa-e96b759c1045",
   "metadata": {},
   "outputs": [],
   "source": []
  }
 ],
 "metadata": {
  "kernelspec": {
   "display_name": "Python 3 (ipykernel)",
   "language": "python",
   "name": "python3"
  },
  "language_info": {
   "codemirror_mode": {
    "name": "ipython",
    "version": 3
   },
   "file_extension": ".py",
   "mimetype": "text/x-python",
   "name": "python",
   "nbconvert_exporter": "python",
   "pygments_lexer": "ipython3",
   "version": "3.11.13"
  }
 },
 "nbformat": 4,
 "nbformat_minor": 5
}
