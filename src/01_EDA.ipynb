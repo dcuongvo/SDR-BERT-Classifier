{
 "cells": [
  {
   "cell_type": "markdown",
   "id": "c52c9bd8-3e2e-4ca1-ad39-ae4d26a59fd7",
   "metadata": {},
   "source": []
  },
  {
   "cell_type": "code",
   "execution_count": 1,
   "id": "4dddd603-8a7f-4b9d-bec5-89567d642b87",
   "metadata": {},
   "outputs": [],
   "source": [
    "#Import and data\n",
    "import pandas as pd\n",
    "import numpy as np\n",
    "import matplotlib.pyplot as plt\n",
    "\n",
    "pd.set_option(\"display.max_colwidth\", 120)\n",
    "\n",
    "MERGED_MODELING_CSV = \"../data/processed/SDR_676_all_converted.csv\" "
   ]
  },
  {
   "cell_type": "code",
   "execution_count": 2,
   "id": "cea3fdb8-fe19-433a-98a4-1d5e0aa34838",
   "metadata": {},
   "outputs": [
    {
     "name": "stdout",
     "output_type": "stream",
     "text": [
      "Shape: (14324, 77)\n"
     ]
    },
    {
     "data": {
      "text/html": [
       "<div>\n",
       "<style scoped>\n",
       "    .dataframe tbody tr th:only-of-type {\n",
       "        vertical-align: middle;\n",
       "    }\n",
       "\n",
       "    .dataframe tbody tr th {\n",
       "        vertical-align: top;\n",
       "    }\n",
       "\n",
       "    .dataframe thead th {\n",
       "        text-align: right;\n",
       "    }\n",
       "</style>\n",
       "<table border=\"1\" class=\"dataframe\">\n",
       "  <thead>\n",
       "    <tr style=\"text-align: right;\">\n",
       "      <th></th>\n",
       "      <th>SubmitterDesignator</th>\n",
       "      <th>RegistryNNumber</th>\n",
       "      <th>ComponentMake</th>\n",
       "      <th>PropellerMake</th>\n",
       "      <th>ButtlineToSide</th>\n",
       "      <th>WingStationToSide</th>\n",
       "      <th>ComponentTotalCycles</th>\n",
       "      <th>PartCondition</th>\n",
       "      <th>PartSinceCode</th>\n",
       "      <th>SourceFile</th>\n",
       "      <th>...</th>\n",
       "      <th>NatureOfConditionC</th>\n",
       "      <th>EngineTotalTime</th>\n",
       "      <th>AircraftModel</th>\n",
       "      <th>OperatorDesignator</th>\n",
       "      <th>StageOfOperationCode</th>\n",
       "      <th>NumberOfCracks</th>\n",
       "      <th>PartTotalTime</th>\n",
       "      <th>PropellerTotalTime</th>\n",
       "      <th>PrecautionaryProcedureB</th>\n",
       "      <th>ComponentPartNumber</th>\n",
       "    </tr>\n",
       "  </thead>\n",
       "  <tbody>\n",
       "    <tr>\n",
       "      <th>0</th>\n",
       "      <td>ABXA</td>\n",
       "      <td>650GT</td>\n",
       "      <td>NaN</td>\n",
       "      <td>NaN</td>\n",
       "      <td>NaN</td>\n",
       "      <td>NaN</td>\n",
       "      <td>NaN</td>\n",
       "      <td>FALSE ACTIVATION</td>\n",
       "      <td>NaN</td>\n",
       "      <td>SDR_676_202201.xls</td>\n",
       "      <td>...</td>\n",
       "      <td>NaN</td>\n",
       "      <td>NaN</td>\n",
       "      <td>767231</td>\n",
       "      <td>ABXA</td>\n",
       "      <td>TX</td>\n",
       "      <td>NaN</td>\n",
       "      <td>NaN</td>\n",
       "      <td>NaN</td>\n",
       "      <td>NaN</td>\n",
       "      <td>NaN</td>\n",
       "    </tr>\n",
       "    <tr>\n",
       "      <th>1</th>\n",
       "      <td>ABXA</td>\n",
       "      <td>749AX</td>\n",
       "      <td>NaN</td>\n",
       "      <td>NaN</td>\n",
       "      <td>NaN</td>\n",
       "      <td>NaN</td>\n",
       "      <td>NaN</td>\n",
       "      <td>NONE</td>\n",
       "      <td>NaN</td>\n",
       "      <td>SDR_676_202201.xls</td>\n",
       "      <td>...</td>\n",
       "      <td>NaN</td>\n",
       "      <td>NaN</td>\n",
       "      <td>767232</td>\n",
       "      <td>ABXA</td>\n",
       "      <td>TX</td>\n",
       "      <td>NaN</td>\n",
       "      <td>NaN</td>\n",
       "      <td>NaN</td>\n",
       "      <td>NaN</td>\n",
       "      <td>NaN</td>\n",
       "    </tr>\n",
       "    <tr>\n",
       "      <th>2</th>\n",
       "      <td>CALA</td>\n",
       "      <td>685UA</td>\n",
       "      <td>NaN</td>\n",
       "      <td>NaN</td>\n",
       "      <td>NaN</td>\n",
       "      <td>NaN</td>\n",
       "      <td>NaN</td>\n",
       "      <td>FALSE INDICATION</td>\n",
       "      <td>NaN</td>\n",
       "      <td>SDR_676_202201.xls</td>\n",
       "      <td>...</td>\n",
       "      <td>NaN</td>\n",
       "      <td>NaN</td>\n",
       "      <td>767300</td>\n",
       "      <td>CALA</td>\n",
       "      <td>UK</td>\n",
       "      <td>NaN</td>\n",
       "      <td>NaN</td>\n",
       "      <td>NaN</td>\n",
       "      <td>NaN</td>\n",
       "      <td>NaN</td>\n",
       "    </tr>\n",
       "  </tbody>\n",
       "</table>\n",
       "<p>3 rows × 77 columns</p>\n",
       "</div>"
      ],
      "text/plain": [
       "  SubmitterDesignator RegistryNNumber ComponentMake  PropellerMake  \\\n",
       "0                ABXA           650GT           NaN            NaN   \n",
       "1                ABXA           749AX           NaN            NaN   \n",
       "2                CALA           685UA           NaN            NaN   \n",
       "\n",
       "  ButtlineToSide WingStationToSide  ComponentTotalCycles     PartCondition  \\\n",
       "0            NaN               NaN                   NaN  FALSE ACTIVATION   \n",
       "1            NaN               NaN                   NaN              NONE   \n",
       "2            NaN               NaN                   NaN  FALSE INDICATION   \n",
       "\n",
       "  PartSinceCode          SourceFile  ...  NatureOfConditionC EngineTotalTime  \\\n",
       "0           NaN  SDR_676_202201.xls  ...                 NaN             NaN   \n",
       "1           NaN  SDR_676_202201.xls  ...                 NaN             NaN   \n",
       "2           NaN  SDR_676_202201.xls  ...                 NaN             NaN   \n",
       "\n",
       "  AircraftModel OperatorDesignator  StageOfOperationCode NumberOfCracks  \\\n",
       "0        767231               ABXA                    TX            NaN   \n",
       "1        767232               ABXA                    TX            NaN   \n",
       "2        767300               CALA                    UK            NaN   \n",
       "\n",
       "  PartTotalTime PropellerTotalTime PrecautionaryProcedureB ComponentPartNumber  \n",
       "0           NaN                NaN                     NaN                 NaN  \n",
       "1           NaN                NaN                     NaN                 NaN  \n",
       "2           NaN                NaN                     NaN                 NaN  \n",
       "\n",
       "[3 rows x 77 columns]"
      ]
     },
     "execution_count": 2,
     "metadata": {},
     "output_type": "execute_result"
    }
   ],
   "source": [
    "df = pd.read_csv(MERGED_MODELING_CSV, low_memory=False)\n",
    "\n",
    "print(\"Shape:\", df.shape)\n",
    "df.head(3)"
   ]
  },
  {
   "cell_type": "code",
   "execution_count": 3,
   "id": "ad0367b7-920d-4543-87cd-28d86548e039",
   "metadata": {},
   "outputs": [
    {
     "name": "stdout",
     "output_type": "stream",
     "text": [
      "Shape: (14324, 77)\n"
     ]
    },
    {
     "data": {
      "text/html": [
       "<div>\n",
       "<style scoped>\n",
       "    .dataframe tbody tr th:only-of-type {\n",
       "        vertical-align: middle;\n",
       "    }\n",
       "\n",
       "    .dataframe tbody tr th {\n",
       "        vertical-align: top;\n",
       "    }\n",
       "\n",
       "    .dataframe thead th {\n",
       "        text-align: right;\n",
       "    }\n",
       "</style>\n",
       "<table border=\"1\" class=\"dataframe\">\n",
       "  <thead>\n",
       "    <tr style=\"text-align: right;\">\n",
       "      <th></th>\n",
       "      <th>SubmitterDesignator</th>\n",
       "      <th>RegistryNNumber</th>\n",
       "      <th>ComponentMake</th>\n",
       "      <th>PropellerMake</th>\n",
       "      <th>ButtlineToSide</th>\n",
       "      <th>WingStationToSide</th>\n",
       "      <th>ComponentTotalCycles</th>\n",
       "      <th>PartCondition</th>\n",
       "      <th>PartSinceCode</th>\n",
       "      <th>SourceFile</th>\n",
       "      <th>...</th>\n",
       "      <th>NatureOfConditionC</th>\n",
       "      <th>EngineTotalTime</th>\n",
       "      <th>AircraftModel</th>\n",
       "      <th>OperatorDesignator</th>\n",
       "      <th>StageOfOperationCode</th>\n",
       "      <th>NumberOfCracks</th>\n",
       "      <th>PartTotalTime</th>\n",
       "      <th>PropellerTotalTime</th>\n",
       "      <th>PrecautionaryProcedureB</th>\n",
       "      <th>ComponentPartNumber</th>\n",
       "    </tr>\n",
       "  </thead>\n",
       "  <tbody>\n",
       "    <tr>\n",
       "      <th>0</th>\n",
       "      <td>ABXA</td>\n",
       "      <td>650GT</td>\n",
       "      <td>NaN</td>\n",
       "      <td>NaN</td>\n",
       "      <td>NaN</td>\n",
       "      <td>NaN</td>\n",
       "      <td>NaN</td>\n",
       "      <td>FALSE ACTIVATION</td>\n",
       "      <td>NaN</td>\n",
       "      <td>SDR_676_202201.xls</td>\n",
       "      <td>...</td>\n",
       "      <td>NaN</td>\n",
       "      <td>NaN</td>\n",
       "      <td>767231</td>\n",
       "      <td>ABXA</td>\n",
       "      <td>TX</td>\n",
       "      <td>NaN</td>\n",
       "      <td>NaN</td>\n",
       "      <td>NaN</td>\n",
       "      <td>NaN</td>\n",
       "      <td>NaN</td>\n",
       "    </tr>\n",
       "    <tr>\n",
       "      <th>1</th>\n",
       "      <td>ABXA</td>\n",
       "      <td>749AX</td>\n",
       "      <td>NaN</td>\n",
       "      <td>NaN</td>\n",
       "      <td>NaN</td>\n",
       "      <td>NaN</td>\n",
       "      <td>NaN</td>\n",
       "      <td>NONE</td>\n",
       "      <td>NaN</td>\n",
       "      <td>SDR_676_202201.xls</td>\n",
       "      <td>...</td>\n",
       "      <td>NaN</td>\n",
       "      <td>NaN</td>\n",
       "      <td>767232</td>\n",
       "      <td>ABXA</td>\n",
       "      <td>TX</td>\n",
       "      <td>NaN</td>\n",
       "      <td>NaN</td>\n",
       "      <td>NaN</td>\n",
       "      <td>NaN</td>\n",
       "      <td>NaN</td>\n",
       "    </tr>\n",
       "    <tr>\n",
       "      <th>2</th>\n",
       "      <td>CALA</td>\n",
       "      <td>685UA</td>\n",
       "      <td>NaN</td>\n",
       "      <td>NaN</td>\n",
       "      <td>NaN</td>\n",
       "      <td>NaN</td>\n",
       "      <td>NaN</td>\n",
       "      <td>FALSE INDICATION</td>\n",
       "      <td>NaN</td>\n",
       "      <td>SDR_676_202201.xls</td>\n",
       "      <td>...</td>\n",
       "      <td>NaN</td>\n",
       "      <td>NaN</td>\n",
       "      <td>767300</td>\n",
       "      <td>CALA</td>\n",
       "      <td>UK</td>\n",
       "      <td>NaN</td>\n",
       "      <td>NaN</td>\n",
       "      <td>NaN</td>\n",
       "      <td>NaN</td>\n",
       "      <td>NaN</td>\n",
       "    </tr>\n",
       "  </tbody>\n",
       "</table>\n",
       "<p>3 rows × 77 columns</p>\n",
       "</div>"
      ],
      "text/plain": [
       "  SubmitterDesignator RegistryNNumber ComponentMake  PropellerMake  \\\n",
       "0                ABXA           650GT           NaN            NaN   \n",
       "1                ABXA           749AX           NaN            NaN   \n",
       "2                CALA           685UA           NaN            NaN   \n",
       "\n",
       "  ButtlineToSide WingStationToSide  ComponentTotalCycles     PartCondition  \\\n",
       "0            NaN               NaN                   NaN  FALSE ACTIVATION   \n",
       "1            NaN               NaN                   NaN              NONE   \n",
       "2            NaN               NaN                   NaN  FALSE INDICATION   \n",
       "\n",
       "  PartSinceCode          SourceFile  ...  NatureOfConditionC EngineTotalTime  \\\n",
       "0           NaN  SDR_676_202201.xls  ...                 NaN             NaN   \n",
       "1           NaN  SDR_676_202201.xls  ...                 NaN             NaN   \n",
       "2           NaN  SDR_676_202201.xls  ...                 NaN             NaN   \n",
       "\n",
       "  AircraftModel OperatorDesignator  StageOfOperationCode NumberOfCracks  \\\n",
       "0        767231               ABXA                    TX            NaN   \n",
       "1        767232               ABXA                    TX            NaN   \n",
       "2        767300               CALA                    UK            NaN   \n",
       "\n",
       "  PartTotalTime PropellerTotalTime PrecautionaryProcedureB ComponentPartNumber  \n",
       "0           NaN                NaN                     NaN                 NaN  \n",
       "1           NaN                NaN                     NaN                 NaN  \n",
       "2           NaN                NaN                     NaN                 NaN  \n",
       "\n",
       "[3 rows x 77 columns]"
      ]
     },
     "execution_count": 3,
     "metadata": {},
     "output_type": "execute_result"
    }
   ],
   "source": [
    "df = pd.read_csv(MERGED_MODELING_CSV, low_memory=False)\n",
    "\n",
    "print(\"Shape:\", df.shape)\n",
    "df.head(3)"
   ]
  },
  {
   "cell_type": "code",
   "execution_count": 4,
   "id": "e25febe0-612b-43ef-87ee-42e10707bbb1",
   "metadata": {},
   "outputs": [
    {
     "name": "stdout",
     "output_type": "stream",
     "text": [
      "Missing expected columns: []\n",
      "Date range: 2022-01-01 00:00:00 → 2025-09-30 00:00:00\n",
      "Unique IDs: 14324  / rows: 14324\n"
     ]
    }
   ],
   "source": [
    "needed = [\"OperatorControlNumber\",\"DifficultyDate\",\"AircraftMake\",\"AircraftModel\",\"JASCCode\",\"Discrepancy\",\"SourceFile\"]\n",
    "missing = [c for c in needed if c not in df.columns]\n",
    "print(\"Missing expected columns:\", missing)\n",
    "\n",
    "# parse date\n",
    "df[\"DifficultyDate\"] = pd.to_datetime(df[\"DifficultyDate\"], errors=\"coerce\")\n",
    "\n",
    "print(\"Date range:\", df[\"DifficultyDate\"].min(), \"→\", df[\"DifficultyDate\"].max())\n",
    "print(\"Unique IDs:\", df[\"OperatorControlNumber\"].nunique(), \" / rows:\", len(df))"
   ]
  },
  {
   "cell_type": "code",
   "execution_count": 5,
   "id": "57c11efb-4094-495c-a5c8-a8e92d9ed20b",
   "metadata": {},
   "outputs": [
    {
     "data": {
      "text/plain": [
       "OperatorControlNumber    0.0\n",
       "DifficultyDate           0.0\n",
       "AircraftMake             0.0\n",
       "AircraftModel            0.0\n",
       "JASCCode                 0.0\n",
       "Discrepancy              0.0\n",
       "SourceFile               0.0\n",
       "dtype: float64"
      ]
     },
     "execution_count": 5,
     "metadata": {},
     "output_type": "execute_result"
    }
   ],
   "source": [
    "#missingn value and duplicate\n",
    "missing_value = df[needed].isna().mean().sort_values(ascending=False)\n",
    "missing_value"
   ]
  },
  {
   "cell_type": "code",
   "execution_count": 6,
   "id": "003e329e-e58c-49a2-b064-1fa5bda3ff69",
   "metadata": {},
   "outputs": [
    {
     "name": "stdout",
     "output_type": "stream",
     "text": [
      "Duplicates by ID: 0\n"
     ]
    }
   ],
   "source": [
    "#Check duplicates by ID (should be 0 as we expect one row per record as we has been query and checking through mergeing\n",
    "dupe_counts = df[\"OperatorControlNumber\"].value_counts()\n",
    "dupes = dupe_counts[dupe_counts > 1]\n",
    "print(\"Duplicates by ID:\", int((dupe_counts > 1).sum()))\n",
    "if len(dupes):\n",
    "    display(df[df[\"OperatorControlNumber\"].isin(dupes.index)].sort_values(\"OperatorControlNumber\").head(10))"
   ]
  },
  {
   "cell_type": "code",
   "execution_count": 7,
   "id": "c8bf6ff0-5ae8-4890-8b3b-d7365185f1a6",
   "metadata": {},
   "outputs": [
    {
     "name": "stdout",
     "output_type": "stream",
     "text": [
      "Completely empty discrepancy rows: 0\n",
      "count    14324.000000\n",
      "mean       235.159732\n",
      "std        201.261496\n",
      "min          8.000000\n",
      "25%        133.750000\n",
      "50%        186.000000\n",
      "75%        273.000000\n",
      "max       4483.000000\n",
      "Name: len_char, dtype: float64\n",
      "count    14324.000000\n",
      "mean        38.434446\n",
      "std         32.376858\n",
      "min          2.000000\n",
      "25%         22.000000\n",
      "50%         30.000000\n",
      "75%         45.000000\n",
      "max        695.000000\n",
      "Name: len_word, dtype: float64\n"
     ]
    },
    {
     "data": {
      "image/png": "[encoded data removed]",
      "text/plain": [
       "<Figure size 640x480 with 1 Axes>"
      ]
     },
     "metadata": {},
     "output_type": "display_data"
    }
   ],
   "source": [
    "# Checking discrepancy fortext length (characters & approx words)\n",
    "df[\"disc\"] = df[\"Discrepancy\"].astype(str).str.strip()\n",
    "df[\"len_char\"] = df[\"disc\"].str.len()# Cell 6: detect empty/boilerplate-looking rows\n",
    "blank_rows = (df[\"disc\"].str.len() == 0).sum()\n",
    "print(\"Completely empty discrepancy rows:\", blank_rows)\n",
    "\n",
    "# % uppercase heuristic (just for curiosity)\n",
    "def upper_ratio(s: str) -> float:\n",
    "    s2 = \"\".join([ch for ch in s if ch.isalpha()])\n",
    "    return (sum(ch.isupper() for ch in s2) / max(1, len(s2))) if s2 else 0.0\n",
    "\n",
    "sample = df[\"disc\"].sample(min(2000, len(df)), random_state=42)\n",
    "approx_upper = sample.apply(upper_ratio).mean()\n",
    "approx_upper\n",
    "\n",
    "df[\"len_word\"] = df[\"disc\"].str.split().apply(len)\n",
    "\n",
    "print(df[\"len_char\"].describe())\n",
    "print(df[\"len_word\"].describe())\n",
    "\n",
    "# quick histogram (matplotlib will choose default colors)\n",
    "df[\"len_word\"].clip(0, 400).hist(bins=40)\n",
    "plt.title(\"Discrepancy word length (clipped at 400)\")\n",
    "plt.xlabel(\"words\")\n",
    "plt.ylabel(\"count\")\n",
    "plt.show()\n"
   ]
  },
  {
   "cell_type": "code",
   "execution_count": 8,
   "id": "85753b18-980e-47fe-a8fc-18062156047c",
   "metadata": {},
   "outputs": [
    {
     "name": "stdout",
     "output_type": "stream",
     "text": [
      "Completely empty discrepancy rows: 0\n"
     ]
    },
    {
     "data": {
      "text/plain": [
       "np.float64(1.0)"
      ]
     },
     "execution_count": 8,
     "metadata": {},
     "output_type": "execute_result"
    }
   ],
   "source": [
    "# Cell 6: detect empty/boilerplate-looking rows\n",
    "blank_rows = (df[\"disc\"].str.len() == 0).sum()\n",
    "print(\"Completely empty discrepancy rows:\", blank_rows)\n",
    "\n",
    "# % uppercase heuristic (just for curiosity)\n",
    "def upper_ratio(s: str) -> float:\n",
    "    s2 = \"\".join([ch for ch in s if ch.isalpha()])\n",
    "    return (sum(ch.isupper() for ch in s2) / max(1, len(s2))) if s2 else 0.0\n",
    "\n",
    "sample = df[\"disc\"].sample(min(2000, len(df)), random_state=42)\n",
    "approx_upper = sample.apply(upper_ratio).mean()\n",
    "approx_upper\n"
   ]
  },
  {
   "cell_type": "code",
   "execution_count": 9,
   "id": "89583ee4-935b-47c5-8786-fcfe57c57a30",
   "metadata": {},
   "outputs": [
    {
     "name": "stdout",
     "output_type": "stream",
     "text": [
      "JASC_int\n",
      "3350    1147\n",
      "5321    1089\n",
      "5320     703\n",
      "5330     539\n",
      "5270     535\n",
      "5300     493\n",
      "5313     424\n",
      "5210     390\n",
      "2560     339\n",
      "5310     321\n",
      "5754     308\n",
      "5753     307\n",
      "5322     217\n",
      "5311     212\n",
      "5730     204\n",
      "5400     192\n",
      "5410     192\n",
      "5700     188\n",
      "5100     178\n",
      "5710     177\n",
      "2565     163\n",
      "5720     152\n",
      "7200     139\n",
      "5347     137\n",
      "2150     132\n",
      "Name: count, dtype: int64\n"
     ]
    },
    {
     "data": {
      "text/plain": [
       "JASC_chapter\n",
       "3800      23\n",
       "4900     275\n",
       "5100     193\n",
       "5200    1227\n",
       "5300    4442\n",
       "5400     658\n",
       "5500     324\n",
       "5600     123\n",
       "5700    1593\n",
       "7100     103\n",
       "7200     244\n",
       "7300     131\n",
       "7400      48\n",
       "7500      93\n",
       "7600       9\n",
       "7700      53\n",
       "7800     146\n",
       "7900      29\n",
       "8000      66\n",
       "8300       2\n",
       "Name: count, dtype: int64"
      ]
     },
     "execution_count": 9,
     "metadata": {},
     "output_type": "execute_result"
    }
   ],
   "source": [
    "# Cell 7: normalize JASC to int (when possible)\n",
    "def as_int_or_nan(x):\n",
    "    try:\n",
    "        return int(float(x))\n",
    "    except Exception:\n",
    "        return np.nan\n",
    "\n",
    "df[\"JASC_int\"] = df[\"JASCCode\"].apply(as_int_or_nan)\n",
    "#cretae chapter for JASC for category labels\n",
    "top_jasc = df[\"JASC_int\"].value_counts(dropna=True).head(25)\n",
    "print(top_jasc)\n",
    "# simple JASC chapter (e.g., 2421 → 24xx)\n",
    "df[\"JASC_chapter\"] = (df[\"JASC_int\"] // 100) * 100\n",
    "chapter_counts = df[\"JASC_chapter\"].value_counts(dropna=True).sort_index()\n",
    "chapter_counts.tail(20)"
   ]
  },
  {
   "cell_type": "code",
   "execution_count": 10,
   "id": "a2b4d19c-50f1-456c-9ba5-61692c021104",
   "metadata": {},
   "outputs": [
    {
     "data": {
      "text/plain": [
       "Category\n",
       "STRUCTURES              8835\n",
       "INSTRUMENTS/AVIONICS    1974\n",
       "POWERPLANT               924\n",
       "INTERIOR/CABIN           661\n",
       "ENVIRONMENTAL            424\n",
       "FLIGHT_CONTROLS          382\n",
       "FUEL                     266\n",
       "HYDRAULIC                177\n",
       "PNEUMATIC                154\n",
       "ELECTRICAL               136\n",
       "FIRE_PROTECTION          125\n",
       "COMM/NAV                  89\n",
       "OXYGEN                    87\n",
       "AUTOFLIGHT/INSTR          62\n",
       "WATER/WASTE               23\n",
       "PLACARDS/MARKINGS          5\n",
       "Name: count, dtype: int64"
      ]
     },
     "execution_count": 10,
     "metadata": {},
     "output_type": "execute_result"
    }
   ],
   "source": [
    "# Cell 9: mapping function (tweak if you like)\n",
    "def jasc_to_category(code):\n",
    "    try:\n",
    "        c = int(float(code))\n",
    "    except:\n",
    "        return \"OTHER\"\n",
    "\n",
    "    if 2100 <= c <= 2199: return \"ENVIRONMENTAL\"     # 21\n",
    "    if 2200 <= c <= 2299: return \"AUTOFLIGHT/INSTR\"  # 22\n",
    "    if 2300 <= c <= 2399: return \"COMM/NAV\"          # 23\n",
    "    if 2400 <= c <= 2499: return \"ELECTRICAL\"        # 24\n",
    "    if 2500 <= c <= 2599: return \"INTERIOR/CABIN\"    # 25\n",
    "    if 2600 <= c <= 2699: return \"FIRE_PROTECTION\"   # 26\n",
    "    if 2700 <= c <= 2799: return \"FLIGHT_CONTROLS\"   # 27\n",
    "    if 2800 <= c <= 2899: return \"FUEL\"              # 28\n",
    "    if 2900 <= c <= 2999: return \"HYDRAULIC\"         # 29\n",
    "    if 3000 <= c <= 3499: return \"INSTRUMENTS/AVIONICS\"  # 30–34\n",
    "    if 3500 <= c <= 3599: return \"OXYGEN\"            # 35\n",
    "    if 3600 <= c <= 3699: return \"PNEUMATIC\"         # 36\n",
    "    if 3800 <= c <= 3899: return \"WATER/WASTE\"       # 38\n",
    "    if 4900 <= c <= 5499: return \"STRUCTURES\"        # 49–54\n",
    "    if 5500 <= c <= 5799: return \"STRUCTURES\"        # 55–57  (doors, empennage, wings)\n",
    "    if 7000 <= c <= 8999: return \"POWERPLANT\"        # 70–89\n",
    "    if c == 1100: return \"PLACARDS/MARKINGS\" # olny 5 case for now/ will merge into \n",
    "    return \"OTHER\"\n",
    "\n",
    "df[\"Category\"] = df[\"JASCCode\"].apply(jasc_to_category)\n",
    "\n",
    "cat_counts = df[\"Category\"].value_counts()\n",
    "cat_counts"
   ]
  },
  {
   "cell_type": "code",
   "execution_count": 11,
   "id": "b2635341-2570-4e84-bb48-812ee4b4c396",
   "metadata": {},
   "outputs": [
    {
     "data": {
      "image/png": "[encoded data removed]",
      "text/plain": [
       "<Figure size 1000x600 with 1 Axes>"
      ]
     },
     "metadata": {},
     "output_type": "display_data"
    }
   ],
   "source": [
    "# Cell 10: visualize category distribution\n",
    "ax = cat_counts.plot(kind=\"barh\", figsize=(10,6))\n",
    "ax.set_title(\"Category distribution\")\n",
    "ax.set_xlabel(\"Count\")\n",
    "ax.set_ylabel(\"Category\")\n",
    "plt.tight_layout()\n",
    "plt.show()\n"
   ]
  },
  {
   "cell_type": "code",
   "execution_count": 12,
   "id": "f1812d1f-b051-4bfb-a55e-a8b862bbd43e",
   "metadata": {},
   "outputs": [],
   "source": [
    "#This used to inspect OTHER catergory and look through documents to classify them again\n",
    "# Filter rows labeled OTHER\n",
    "#other_df = df[df[\"Category\"] == \"OTHER\"]\n",
    "#print(\"OTHER count:\", len(other_df))\n",
    "#print(\"Unique JASC codes inside OTHER:\", other_df[\"JASCCode\"].nunique())\n",
    "# Show top 30 most frequent JASC codes that landed in OTHER\n",
    "#print(other_df[\"JASCCode\"].value_counts().head(30))"
   ]
  },
  {
   "cell_type": "markdown",
   "id": "3de94553-1790-4722-8656-2c8eb1d12ded",
   "metadata": {},
   "source": [
    "We can see that we have:\n",
    "\n",
    "    - Big group(greater than 500 samples): STRUCTURES, INSTRUMENTS/AVIONICS, POWERPLANT, INTERIOR/CABIN \n",
    "    - Medium Group(200-500 samples): ENVIRONMENTAL, FLIGHT_CONTROLS, FUEL\n",
    "    - Small group ( less than 200 samples) are the rest\n",
    "The small group with less than 200 samples can be hard for BERD to learn - >  consider megering with other category for now. We will comeback in future as we query and get more records from FAA website.\n",
    "\n",
    "New Category:\n",
    "- AVIONICS/ELECTRICAL(2260) = merge INSTRUMENTS/AVIONICS (1974) + ELECTRICAL (136) + COMM/NAV (89) + AUTOFLIGHT/INSTR (62)\n",
    "- FLUID_SYSTEMS (600) = FUEL (266) + HYDRAULIC (177) + PNEUMATIC (154)\n",
    "- ENVIRONMENTAL/SAFETY (~660) = ENVIRONMENTAL (424) + FIRE_PROTECTION (125) + OXYGEN (87) + WATER/WASTE (23)"
   ]
  },
  {
   "cell_type": "code",
   "execution_count": 13,
   "id": "6a0d1a77-0d1d-4065-b8fd-7fb46de5f163",
   "metadata": {},
   "outputs": [
    {
     "name": "stdout",
     "output_type": "stream",
     "text": [
      "Category_adj\n",
      "STRUCTURES              8835\n",
      "AVIONICS/ELECTRICAL     2261\n",
      "POWERPLANT               924\n",
      "CABIN                    666\n",
      "ENVIRONMENTAL/SAFETY     659\n",
      "FLUID_SYSTEMS            597\n",
      "FLIGHT_CONTROLS          382\n",
      "Name: count, dtype: int64\n"
     ]
    },
    {
     "data": {
      "image/png": "[encoded data removed]",
      "text/plain": [
       "<Figure size 800x500 with 1 Axes>"
      ]
     },
     "metadata": {},
     "output_type": "display_data"
    }
   ],
   "source": [
    "def merge_category(cat: str) -> str:\n",
    "    if cat == \"\":\n",
    "        return \"CABIN\"   # or \"OTHER\", depending on your decision\n",
    "    if cat in [\"INSTRUMENTS/AVIONICS\", \"ELECTRICAL\", \"COMM/NAV\", \"AUTOFLIGHT/INSTR\"]:\n",
    "        return \"AVIONICS/ELECTRICAL\"\n",
    "    if cat in [\"FUEL\", \"HYDRAULIC\", \"PNEUMATIC\"]:\n",
    "        return \"FLUID_SYSTEMS\"\n",
    "    if cat in [\"ENVIRONMENTAL\", \"FIRE_PROTECTION\", \"OXYGEN\", \"WATER/WASTE\"]:\n",
    "        return \"ENVIRONMENTAL/SAFETY\"\n",
    "    if cat in [\"INTERIOR/CABIN\",\"PLACARDS/MARKINGS\"]:   #for now PLACARDS/MARKINGS with be\n",
    "        return \"CABIN\"\n",
    "    if cat in [\"FLIGHT_CONTROLS\"]:\n",
    "        return \"FLIGHT_CONTROLS\"\n",
    "    if cat in [\"POWERPLANT\"]:\n",
    "        return \"POWERPLANT\"\n",
    "    if cat in [\"STRUCTURES\"]:\n",
    "        return \"STRUCTURES\"\n",
    "    return \"OTHER\"\n",
    "\n",
    "# 2) Create adjusted label\n",
    "df[\"Category_adj\"] = df[\"Category\"].apply(merge_category)\n",
    "\n",
    "# 3) Inspect new distribution\n",
    "counts = df[\"Category_adj\"].value_counts().sort_values(ascending=False)\n",
    "print(counts)\n",
    "\n",
    "# (Optional) Horizontal bar chart, sorted\n",
    "import matplotlib.pyplot as plt\n",
    "counts.sort_values().plot(kind=\"barh\", figsize=(8,5))\n",
    "plt.title(\"Adjusted Category distribution\")\n",
    "plt.xlabel(\"Count\"); plt.ylabel(\"Category\")\n",
    "plt.tight_layout(); plt.show()\n"
   ]
  },
  {
   "cell_type": "code",
   "execution_count": 14,
   "id": "5038044d-b485-4e92-be9a-a4151ce2a60c",
   "metadata": {},
   "outputs": [
    {
     "data": {
      "text/plain": [
       "month\n",
       "2024-07    298\n",
       "2024-08    403\n",
       "2024-09    290\n",
       "2024-10    489\n",
       "2024-11    322\n",
       "2024-12    193\n",
       "2025-01     13\n",
       "2025-02    237\n",
       "2025-03    510\n",
       "2025-04    277\n",
       "2025-05    327\n",
       "2025-06    286\n",
       "2025-07    313\n",
       "2025-08    345\n",
       "2025-09    240\n",
       "Freq: M, dtype: int64"
      ]
     },
     "execution_count": 14,
     "metadata": {},
     "output_type": "execute_result"
    }
   ],
   "source": [
    "monthly = (df\n",
    "           .assign(month=df[\"DifficultyDate\"].dt.to_period(\"M\"))\n",
    "           .groupby(\"month\").size())\n",
    "monthly.tail(15)"
   ]
  },
  {
   "cell_type": "code",
   "execution_count": 15,
   "id": "5bf431d2-b7ca-4324-a37c-8eb8a4bc7693",
   "metadata": {},
   "outputs": [
    {
     "data": {
      "text/plain": [
       "AircraftModel\n",
       "767332      2631\n",
       "767323      1483\n",
       "76734AF     1340\n",
       "767322      1083\n",
       "7673S2F     1019\n",
       "767300       937\n",
       "767432ER     790\n",
       "767338       364\n",
       "767          344\n",
       "767424ER     295\n",
       "Name: count, dtype: int64"
      ]
     },
     "execution_count": 15,
     "metadata": {},
     "output_type": "execute_result"
    }
   ],
   "source": [
    "df[\"AircraftModel\"].value_counts().head(10)"
   ]
  },
  {
   "cell_type": "code",
   "execution_count": 16,
   "id": "3cdf106a-09b6-4ae5-936e-fd7f67470ff7",
   "metadata": {},
   "outputs": [
    {
     "name": "stdout",
     "output_type": "stream",
     "text": [
      "Saved: ../data/processed/sdr_training.csv rows: 14324\n"
     ]
    }
   ],
   "source": [
    "model_cols = [\"OperatorControlNumber\",\"DifficultyDate\",\"AircraftMake\",\"AircraftModel\",\n",
    "              \"JASCCode\",\"Discrepancy\",\"SourceFile\",\"Category\",\"JASC_int\",\"Category_adj\"]\n",
    "\n",
    "#model_cols = [\"OperatorControlNumber\",\"DifficultyDate\",\"AircraftMake\",\"AircraftModel\",\n",
    "#              \"JASCCode\",\"Discrepancy\",\"SourceFile\",\"Category\",\"Category_adj\",\"JASC_int\",\"JASC_chapter\"]\n",
    "\n",
    "model_df = df[model_cols].copy()\n",
    "model_df = model_df.sort_values(\"DifficultyDate\")\n",
    "\n",
    "out_path = \"../data/processed/sdr_training.csv\"\n",
    "model_df.to_csv(out_path, index=False)\n",
    "print(\"Saved:\", out_path, \"rows:\", len(model_df))"
   ]
  },
  {
   "cell_type": "code",
   "execution_count": null,
   "id": "e87bb34f-d12e-497e-8afa-78fbadc7f531",
   "metadata": {},
   "outputs": [],
   "source": []
  },
  {
   "cell_type": "code",
   "execution_count": null,
   "id": "1b08bb97-8aa2-4445-89a2-590d2ed05886",
   "metadata": {},
   "outputs": [],
   "source": []
  }
 ],
 "metadata": {
  "kernelspec": {
   "display_name": "Python 3 (ipykernel)",
   "language": "python",
   "name": "python3"
  },
  "language_info": {
   "codemirror_mode": {
    "name": "ipython",
    "version": 3
   },
   "file_extension": ".py",
   "mimetype": "text/x-python",
   "name": "python",
   "nbconvert_exporter": "python",
   "pygments_lexer": "ipython3",
   "version": "3.11.13"
  }
 },
 "nbformat": 4,
 "nbformat_minor": 5
}
